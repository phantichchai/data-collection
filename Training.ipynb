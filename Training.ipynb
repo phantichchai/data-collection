{
 "cells": [
  {
   "cell_type": "code",
   "execution_count": 1,
   "id": "bd7781d6-0b3e-4ed4-9099-7f95bbc8b12e",
   "metadata": {},
   "outputs": [
    {
     "name": "stderr",
     "output_type": "stream",
     "text": [
      "/home/phantichchai/anaconda3/envs/multi-transformer/lib/python3.10/site-packages/tqdm/auto.py:21: TqdmWarning: IProgress not found. Please update jupyter and ipywidgets. See https://ipywidgets.readthedocs.io/en/stable/user_install.html\n",
      "  from .autonotebook import tqdm as notebook_tqdm\n"
     ]
    }
   ],
   "source": [
    "from dataset import GameplayActionPairVideoDataset\n",
    "from torch.utils.data import Dataset, DataLoader\n",
    "from transformers import BertTokenizer\n",
    "import torch\n",
    "from utils import custom_collate_fn\n",
    "from model import Agent, device"
   ]
  },
  {
   "cell_type": "code",
   "execution_count": 2,
   "id": "eb8e5664-7842-4a9e-ab5d-9f3e0d6145a7",
   "metadata": {},
   "outputs": [],
   "source": [
    "root_dir = \"output_logs\""
   ]
  },
  {
   "cell_type": "code",
   "execution_count": 3,
   "id": "e50cc19f-4e0b-4f1e-bb94-a4737ac44936",
   "metadata": {},
   "outputs": [
    {
     "name": "stderr",
     "output_type": "stream",
     "text": [
      "/home/phantichchai/anaconda3/envs/multi-transformer/lib/python3.10/site-packages/huggingface_hub/file_download.py:1132: FutureWarning: `resume_download` is deprecated and will be removed in version 1.0.0. Downloads always resume when possible. If you want to force a new download, use `force_download=True`.\n",
      "  warnings.warn(\n"
     ]
    }
   ],
   "source": [
    "tokenizer = BertTokenizer.from_pretrained('bert-base-uncased')\n",
    "dataset = GameplayActionPairVideoDataset(root_dir=root_dir, tokenizer=tokenizer)"
   ]
  },
  {
   "cell_type": "code",
   "execution_count": 4,
   "id": "c4f7f2f8-44cb-4726-8c78-491b5c3804bc",
   "metadata": {},
   "outputs": [
    {
     "data": {
      "text/plain": [
       "<torch.utils.data.dataloader.DataLoader at 0x76a800c87eb0>"
      ]
     },
     "execution_count": 4,
     "metadata": {},
     "output_type": "execute_result"
    }
   ],
   "source": [
    "dataloader = DataLoader(dataset, batch_size=2, shuffle=True, collate_fn=custom_collate_fn)\n",
    "dataloader"
   ]
  },
  {
   "cell_type": "code",
   "execution_count": 5,
   "id": "94cd7d4f-c9ba-41a4-a480-decc485596e2",
   "metadata": {},
   "outputs": [],
   "source": [
    "from transformers import VivitModel, VivitConfig"
   ]
  },
  {
   "cell_type": "code",
   "execution_count": 6,
   "id": "2a8269b6-3339-4f70-8bb1-3ab4db19bcd3",
   "metadata": {
    "scrolled": true
   },
   "outputs": [],
   "source": [
    "config = VivitConfig()\n",
    "config.num_frames = 300"
   ]
  },
  {
   "cell_type": "code",
   "execution_count": 12,
   "id": "d09b64aa-8657-4ee8-9866-7780e23a251e",
   "metadata": {
    "scrolled": true
   },
   "outputs": [
    {
     "name": "stderr",
     "output_type": "stream",
     "text": [
      "/home/phantichchai/anaconda3/envs/multi-transformer/lib/python3.10/site-packages/huggingface_hub/file_download.py:1132: FutureWarning: `resume_download` is deprecated and will be removed in version 1.0.0. Downloads always resume when possible. If you want to force a new download, use `force_download=True`.\n",
      "  warnings.warn(\n",
      "Some weights of VivitModel were not initialized from the model checkpoint at google/vivit-b-16x2-kinetics400 and are newly initialized: ['vivit.pooler.dense.bias', 'vivit.pooler.dense.weight']\n",
      "You should probably TRAIN this model on a down-stream task to be able to use it for predictions and inference.\n"
     ]
    },
    {
     "data": {
      "text/plain": [
       "VivitModel(\n",
       "  (embeddings): VivitEmbeddings(\n",
       "    (patch_embeddings): VivitTubeletEmbeddings(\n",
       "      (projection): Conv3d(3, 768, kernel_size=(2, 16, 16), stride=(2, 16, 16))\n",
       "    )\n",
       "    (dropout): Dropout(p=0.0, inplace=False)\n",
       "  )\n",
       "  (encoder): VivitEncoder(\n",
       "    (layer): ModuleList(\n",
       "      (0-11): 12 x VivitLayer(\n",
       "        (attention): VivitAttention(\n",
       "          (attention): VivitSelfAttention(\n",
       "            (query): Linear(in_features=768, out_features=768, bias=True)\n",
       "            (key): Linear(in_features=768, out_features=768, bias=True)\n",
       "            (value): Linear(in_features=768, out_features=768, bias=True)\n",
       "            (dropout): Dropout(p=0.0, inplace=False)\n",
       "          )\n",
       "          (output): VivitSelfOutput(\n",
       "            (dense): Linear(in_features=768, out_features=768, bias=True)\n",
       "            (dropout): Dropout(p=0.0, inplace=False)\n",
       "          )\n",
       "        )\n",
       "        (intermediate): VivitIntermediate(\n",
       "          (dense): Linear(in_features=768, out_features=3072, bias=True)\n",
       "          (dropout): Dropout(p=0.0, inplace=False)\n",
       "          (intermediate_act_fn): FastGELUActivation()\n",
       "        )\n",
       "        (output): VivitOutput(\n",
       "          (dense): Linear(in_features=3072, out_features=768, bias=True)\n",
       "          (dropout): Dropout(p=0.0, inplace=False)\n",
       "        )\n",
       "        (layernorm_before): LayerNorm((768,), eps=1e-06, elementwise_affine=True)\n",
       "        (layernorm_after): LayerNorm((768,), eps=1e-06, elementwise_affine=True)\n",
       "      )\n",
       "    )\n",
       "  )\n",
       "  (layernorm): LayerNorm((768,), eps=1e-06, elementwise_affine=True)\n",
       "  (pooler): VivitPooler(\n",
       "    (dense): Linear(in_features=768, out_features=768, bias=True)\n",
       "    (activation): Tanh()\n",
       "  )\n",
       ")"
      ]
     },
     "execution_count": 12,
     "metadata": {},
     "output_type": "execute_result"
    }
   ],
   "source": [
    "model = VivitModel.from_pretrained('google/vivit-b-16x2-kinetics400')\n",
    "model.to(device)"
   ]
  },
  {
   "cell_type": "code",
   "execution_count": 17,
   "id": "d156de8b-16e8-4fe8-b100-fbcf39c215eb",
   "metadata": {
    "scrolled": true
   },
   "outputs": [],
   "source": [
    "tensor = torch.randn(1, 32, 3, 224, 224)\n",
    "tensor = tensor.to(device)"
   ]
  },
  {
   "cell_type": "code",
   "execution_count": 18,
   "id": "6f0f3ee8-4ffe-4b5a-9366-fad3e1562bc3",
   "metadata": {},
   "outputs": [],
   "source": [
    "with torch.inference_mode():\n",
    "    output = model(tensor)"
   ]
  },
  {
   "cell_type": "code",
   "execution_count": null,
   "id": "a117ccd1-5bf3-4fe9-93c5-e62a4b273447",
   "metadata": {},
   "outputs": [],
   "source": []
  }
 ],
 "metadata": {
  "kernelspec": {
   "display_name": "Python 3 (ipykernel)",
   "language": "python",
   "name": "python3"
  },
  "language_info": {
   "codemirror_mode": {
    "name": "ipython",
    "version": 3
   },
   "file_extension": ".py",
   "mimetype": "text/x-python",
   "name": "python",
   "nbconvert_exporter": "python",
   "pygments_lexer": "ipython3",
   "version": "3.10.13"
  }
 },
 "nbformat": 4,
 "nbformat_minor": 5
}
