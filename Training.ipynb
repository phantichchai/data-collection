{
 "cells": [
  {
   "cell_type": "code",
   "execution_count": 2,
   "id": "bd7781d6-0b3e-4ed4-9099-7f95bbc8b12e",
   "metadata": {},
   "outputs": [
    {
     "name": "stderr",
     "output_type": "stream",
     "text": [
      "/home/phantichchai/anaconda3/envs/multi-transformer/lib/python3.10/site-packages/tqdm/auto.py:21: TqdmWarning: IProgress not found. Please update jupyter and ipywidgets. See https://ipywidgets.readthedocs.io/en/stable/user_install.html\n",
      "  from .autonotebook import tqdm as notebook_tqdm\n"
     ]
    }
   ],
   "source": [
    "from dataset import GameplayActionPairVideoDataset\n",
    "from torch.utils.data import Dataset, DataLoader\n",
    "from transformers import BertTokenizer\n",
    "import torch\n",
    "from utils import custom_collate_fn\n",
    "from model.agent import Agent, device\n",
    "from torch import nn, optim\n",
    "from model.action_loss import ActionLoss"
   ]
  },
  {
   "cell_type": "code",
   "execution_count": 3,
   "id": "eb8e5664-7842-4a9e-ab5d-9f3e0d6145a7",
   "metadata": {},
   "outputs": [],
   "source": [
    "root_dir = \"output_logs\""
   ]
  },
  {
   "cell_type": "code",
   "execution_count": 4,
   "id": "e50cc19f-4e0b-4f1e-bb94-a4737ac44936",
   "metadata": {},
   "outputs": [
    {
     "name": "stderr",
     "output_type": "stream",
     "text": [
      "/home/phantichchai/anaconda3/envs/multi-transformer/lib/python3.10/site-packages/huggingface_hub/file_download.py:1132: FutureWarning: `resume_download` is deprecated and will be removed in version 1.0.0. Downloads always resume when possible. If you want to force a new download, use `force_download=True`.\n",
      "  warnings.warn(\n"
     ]
    }
   ],
   "source": [
    "tokenizer = BertTokenizer.from_pretrained('bert-base-uncased')\n",
    "dataset = GameplayActionPairVideoDataset(root_dir=root_dir, tokenizer=tokenizer)"
   ]
  },
  {
   "cell_type": "code",
   "execution_count": 4,
   "id": "c4f7f2f8-44cb-4726-8c78-491b5c3804bc",
   "metadata": {},
   "outputs": [
    {
     "data": {
      "text/plain": [
       "<torch.utils.data.dataloader.DataLoader at 0x7f44c5f972b0>"
      ]
     },
     "execution_count": 4,
     "metadata": {},
     "output_type": "execute_result"
    }
   ],
   "source": [
    "dataloader = DataLoader(dataset, batch_size=1, shuffle=True, collate_fn=custom_collate_fn)\n",
    "dataloader"
   ]
  },
  {
   "cell_type": "code",
   "execution_count": 5,
   "id": "227e2e86-d3d4-4066-a332-a7f6459c36f7",
   "metadata": {},
   "outputs": [],
   "source": [
    "agent = Agent(debug=False).to(device)"
   ]
  },
  {
   "cell_type": "code",
   "execution_count": 6,
   "id": "59db9cc5-4a73-4d03-b813-58e72ba55867",
   "metadata": {},
   "outputs": [],
   "source": [
    "criterion = ActionLoss()\n",
    "optimizer = optim.Adam(agent.parameters(), lr=0.001)"
   ]
  },
  {
   "cell_type": "code",
   "execution_count": 28,
   "id": "e1a27841-c6a6-4dbc-a97a-6d104b7a66ba",
   "metadata": {},
   "outputs": [],
   "source": [
    "num_epochs = 100"
   ]
  },
  {
   "cell_type": "code",
   "execution_count": 29,
   "id": "a117ccd1-5bf3-4fe9-93c5-e62a4b273447",
   "metadata": {
    "scrolled": true
   },
   "outputs": [
    {
     "name": "stdout",
     "output_type": "stream",
     "text": [
      "Epoch [1/100], Loss: 78.3218\n",
      "Epoch [2/100], Loss: 79.8710\n",
      "Epoch [3/100], Loss: 78.2609\n",
      "Epoch [4/100], Loss: 87.6718\n",
      "Epoch [5/100], Loss: 78.4673\n",
      "Epoch [6/100], Loss: 79.8512\n",
      "Epoch [7/100], Loss: 1375.9509\n",
      "Epoch [8/100], Loss: 215.3219\n",
      "Epoch [9/100], Loss: 87.6747\n",
      "Epoch [10/100], Loss: 87.3105\n",
      "Epoch [11/100], Loss: 77.1046\n",
      "Epoch [12/100], Loss: 215.3221\n",
      "Epoch [13/100], Loss: 77.1018\n",
      "Epoch [14/100], Loss: 77.1186\n",
      "Epoch [15/100], Loss: 162.0769\n",
      "Epoch [16/100], Loss: 79.8704\n",
      "Epoch [17/100], Loss: 77.1018\n",
      "Epoch [18/100], Loss: 215.3273\n",
      "Epoch [19/100], Loss: 78.4712\n",
      "Epoch [20/100], Loss: 78.4694\n",
      "Epoch [21/100], Loss: 204.5791\n",
      "Epoch [22/100], Loss: 1375.9490\n",
      "Epoch [23/100], Loss: 77.1107\n",
      "Epoch [24/100], Loss: 78.4658\n",
      "Epoch [25/100], Loss: 1375.9666\n",
      "Epoch [26/100], Loss: 87.1038\n",
      "Epoch [27/100], Loss: 78.2594\n",
      "Epoch [28/100], Loss: 204.5778\n",
      "Epoch [29/100], Loss: 204.5791\n",
      "Epoch [30/100], Loss: 77.1107\n",
      "Epoch [31/100], Loss: 77.1064\n",
      "Epoch [32/100], Loss: 87.3092\n",
      "Epoch [33/100], Loss: 79.8815\n",
      "Epoch [34/100], Loss: 79.8865\n",
      "Epoch [35/100], Loss: 215.3221\n",
      "Epoch [36/100], Loss: 77.1132\n",
      "Epoch [37/100], Loss: 78.4735\n",
      "Epoch [38/100], Loss: 87.3076\n",
      "Epoch [39/100], Loss: 87.2999\n",
      "Epoch [40/100], Loss: 87.6830\n",
      "Epoch [41/100], Loss: 87.2977\n",
      "Epoch [42/100], Loss: 162.0821\n",
      "Epoch [43/100], Loss: 1375.9836\n",
      "Epoch [44/100], Loss: 204.5765\n",
      "Epoch [45/100], Loss: 215.3251\n",
      "Epoch [46/100], Loss: 87.3058\n",
      "Epoch [47/100], Loss: 87.1226\n",
      "Epoch [48/100], Loss: 79.8909\n",
      "Epoch [49/100], Loss: 79.8880\n",
      "Epoch [50/100], Loss: 78.5002\n",
      "Epoch [51/100], Loss: 78.2609\n",
      "Epoch [52/100], Loss: 1375.9595\n",
      "Epoch [53/100], Loss: 162.0634\n",
      "Epoch [54/100], Loss: 87.1377\n",
      "Epoch [55/100], Loss: 162.0887\n",
      "Epoch [56/100], Loss: 77.1118\n",
      "Epoch [57/100], Loss: 87.1048\n",
      "Epoch [58/100], Loss: 204.5797\n",
      "Epoch [59/100], Loss: 78.4616\n",
      "Epoch [60/100], Loss: 79.8703\n",
      "Epoch [61/100], Loss: 87.1106\n",
      "Epoch [62/100], Loss: 215.3352\n",
      "Epoch [63/100], Loss: 87.1072\n",
      "Epoch [64/100], Loss: 204.5851\n",
      "Epoch [65/100], Loss: 87.2977\n",
      "Epoch [66/100], Loss: 79.8533\n",
      "Epoch [67/100], Loss: 215.3408\n",
      "Epoch [68/100], Loss: 1375.9967\n",
      "Epoch [69/100], Loss: 87.3021\n",
      "Epoch [70/100], Loss: 215.3410\n",
      "Epoch [71/100], Loss: 87.1080\n",
      "Epoch [72/100], Loss: 78.4620\n",
      "Epoch [73/100], Loss: 162.0632\n",
      "Epoch [74/100], Loss: 1375.9233\n",
      "Epoch [75/100], Loss: 1375.9641\n",
      "Epoch [76/100], Loss: 162.0784\n",
      "Epoch [77/100], Loss: 1375.9155\n",
      "Epoch [78/100], Loss: 87.6717\n",
      "Epoch [79/100], Loss: 87.6749\n",
      "Epoch [80/100], Loss: 204.5756\n",
      "Epoch [81/100], Loss: 78.5031\n",
      "Epoch [82/100], Loss: 78.4765\n",
      "Epoch [83/100], Loss: 204.5825\n",
      "Epoch [84/100], Loss: 162.0669\n",
      "Epoch [85/100], Loss: 79.8545\n",
      "Epoch [86/100], Loss: 162.0749\n",
      "Epoch [87/100], Loss: 1375.9827\n",
      "Epoch [88/100], Loss: 77.1050\n",
      "Epoch [89/100], Loss: 87.1127\n",
      "Epoch [90/100], Loss: 87.6806\n",
      "Epoch [91/100], Loss: 87.0979\n",
      "Epoch [92/100], Loss: 79.8570\n",
      "Epoch [93/100], Loss: 79.8557\n",
      "Epoch [94/100], Loss: 87.1060\n",
      "Epoch [95/100], Loss: 215.3342\n",
      "Epoch [96/100], Loss: 215.3241\n",
      "Epoch [97/100], Loss: 78.4656\n",
      "Epoch [98/100], Loss: 78.4661\n",
      "Epoch [99/100], Loss: 79.8628\n",
      "Epoch [100/100], Loss: 215.3213\n"
     ]
    }
   ],
   "source": [
    "for epoch in range(num_epochs):\n",
    "    for batch, (instruction, frame, action) in enumerate(dataloader):\n",
    "        frame = frame.to(device)\n",
    "        action = action.to(device)\n",
    "        _, _, channel, height, width = frame.shape\n",
    "        images = frame.reshape(-1, channel, height, width).to(device)\n",
    "        instruction = tokenizer.decode(*instruction)\n",
    "        optimizer.zero_grad()\n",
    "        logits = agent(images, frame, instruction)\n",
    "        # print(f\"logits: {logits}\")\n",
    "        # print(f\"action: {action}\")\n",
    "        loss = criterion(logits, action)\n",
    "        loss.backward()\n",
    "        optimizer.step()\n",
    "    print(f\"Epoch [{epoch+1}/{num_epochs}], Loss: {loss.item():.4f}\")"
   ]
  },
  {
   "cell_type": "code",
   "execution_count": 5,
   "id": "30b07c99-3b12-473f-b971-3ca9511ceadd",
   "metadata": {
    "scrolled": true
   },
   "outputs": [
    {
     "ename": "NameError",
     "evalue": "name 'agent' is not defined",
     "output_type": "error",
     "traceback": [
      "\u001b[0;31m---------------------------------------------------------------------------\u001b[0m",
      "\u001b[0;31mNameError\u001b[0m                                 Traceback (most recent call last)",
      "Cell \u001b[0;32mIn[5], line 6\u001b[0m\n\u001b[1;32m      4\u001b[0m instruction \u001b[38;5;241m=\u001b[39m tokenizer\u001b[38;5;241m.\u001b[39mdecode(instruction)\n\u001b[1;32m      5\u001b[0m ground_truth \u001b[38;5;241m=\u001b[39m ground_truth\u001b[38;5;241m.\u001b[39mto(device)\n\u001b[0;32m----> 6\u001b[0m action \u001b[38;5;241m=\u001b[39m \u001b[43magent\u001b[49m\u001b[38;5;241m.\u001b[39mget_actions(frame, instruction)\n",
      "\u001b[0;31mNameError\u001b[0m: name 'agent' is not defined"
     ]
    }
   ],
   "source": [
    "(instruction, frame, ground_truth) = dataset[0]\n",
    "frame = frame.unsqueeze(0).to(device)\n",
    "instruction = instruction.to(device)\n",
    "instruction = tokenizer.decode(instruction)\n",
    "ground_truth = ground_truth.to(device)\n",
    "action = agent.get_actions(frame, instruction)"
   ]
  },
  {
   "cell_type": "code",
   "execution_count": 6,
   "id": "ef95b27d-b8ae-4004-9361-a876d7cced84",
   "metadata": {},
   "outputs": [
    {
     "data": {
      "text/plain": [
       "<All keys matched successfully>"
      ]
     },
     "execution_count": 6,
     "metadata": {},
     "output_type": "execute_result"
    }
   ],
   "source": [
    "model = Agent().to(device)\n",
    "model.load_state_dict(torch.load('model_weights.pth'))"
   ]
  },
  {
   "cell_type": "code",
   "execution_count": 7,
   "id": "bed6053b-2943-446f-a955-0ee9603acaf9",
   "metadata": {
    "scrolled": true
   },
   "outputs": [],
   "source": [
    "model.eval()\n",
    "(instruction, frame, ground_truth) = dataset[10]\n",
    "frame = frame.unsqueeze(0).to(device)\n",
    "instruction = instruction.to(device)\n",
    "instruction = tokenizer.decode(instruction)\n",
    "ground_truth = ground_truth.to(device)\n",
    "action = model.get_actions(frame, instruction)"
   ]
  },
  {
   "cell_type": "code",
   "execution_count": 12,
   "id": "aae97e85-4779-4d7a-b79e-61bf801a3d6d",
   "metadata": {},
   "outputs": [
    {
     "name": "stdout",
     "output_type": "stream",
     "text": [
      "action: tensor([[1., 1., 1., 1., 1., 1., 1., 1., 1., 1., 1., 1., 1., 1., 1., 1., 1., 1.,\n",
      "         1., 1., 1., 1., 1., 1., 1., 1., 1., 1., 1., 1., 1., 1., 1., 1., 1., 1.,\n",
      "         1., 1., 1., 1., 1., 1., 1., 1., 1., 1., 1., 1., 1., 1., 1., 1., 1., 1.,\n",
      "         1., 1., 1., 1., 1., 1., 1., 1., 1., 1., 1., 1., 1., 1., 1., 1., 1., 1.,\n",
      "         1., 1., 1., 1., 1., 1., 1., 1., 1., 1., 1., 1., 1., 1., 1., 1., 1., 1.,\n",
      "         1., 1., 1., 1., 1., 1., 1., 1., 1., 1., 1., 1., 1., 1., 1., 1., 1., 1.,\n",
      "         1., 1., 1., 1., 1., 1., 1., 1., 1., 1., 1., 1., 1., 1., 1., 1., 1., 1.,\n",
      "         1., 1., 1., 1., 1., 1., 1., 1., 1., 1., 1., 1., 1., 1., 1., 1., 1., 1.,\n",
      "         1., 1., 1., 1., 1., 1., 1., 1., 1., 1., 1., 1., 1., 1., 1., 1., 1., 1.,\n",
      "         1., 1., 1., 1., 1., 1., 1., 1.]], device='cuda:0')\n",
      "ground_truth: tensor([0., 0., 0., 0., 0., 0., 0., 0., 0., 0., 0., 0., 0., 0., 0., 0., 0., 0., 0., 0., 0., 0., 0., 0.,\n",
      "        0., 0., 0., 0., 0., 0., 0., 0., 0., 0., 0., 0., 0., 0., 0., 0., 0., 0., 0., 0., 0., 0., 0., 0.,\n",
      "        0., 0., 0., 0., 0., 0., 0., 0., 0., 0., 0., 0., 0., 0., 0., 0., 0., 0., 0., 0., 0., 0., 0., 0.,\n",
      "        0., 0., 0., 0., 0., 0., 0., 0., 0., 0., 0., 0., 0., 0., 0., 0., 0., 0., 0., 0., 0., 0., 0., 0.,\n",
      "        0., 0., 0., 0., 0., 0., 0., 0., 0., 0., 0., 0., 0., 0., 0., 0., 0., 0., 0., 0., 0., 0., 0., 0.,\n",
      "        0., 0., 0., 0., 0., 0., 0., 0., 0., 0., 0., 0., 0., 0., 0., 0., 0., 0., 0., 0., 0., 0., 0., 0.,\n",
      "        0., 0., 0., 0., 0., 0., 0., 0., 0., 0., 0., 0., 0., 0., 0., 0., 0., 0., 0., 0., 0., 0., 0., 0.,\n",
      "        0., 0.], device='cuda:0')\n"
     ]
    }
   ],
   "source": [
    "INDEX = 2\n",
    "print(f\"action: {action[:, :, INDEX]}\")\n",
    "print(f\"ground_truth: {ground_truth[:, INDEX]}\")"
   ]
  },
  {
   "cell_type": "markdown",
   "id": "1c567867-ce3a-4bb3-a1dd-27e282210b61",
   "metadata": {
    "jp-MarkdownHeadingCollapsed": true
   },
   "source": [
    " "
   ]
  }
 ],
 "metadata": {
  "kernelspec": {
   "display_name": "Python 3 (ipykernel)",
   "language": "python",
   "name": "python3"
  },
  "language_info": {
   "codemirror_mode": {
    "name": "ipython",
    "version": 3
   },
   "file_extension": ".py",
   "mimetype": "text/x-python",
   "name": "python",
   "nbconvert_exporter": "python",
   "pygments_lexer": "ipython3",
   "version": "3.10.13"
  }
 },
 "nbformat": 4,
 "nbformat_minor": 5
}
