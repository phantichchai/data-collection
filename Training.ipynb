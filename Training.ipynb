{
 "cells": [
  {
   "cell_type": "code",
   "execution_count": 1,
   "id": "bd7781d6-0b3e-4ed4-9099-7f95bbc8b12e",
   "metadata": {},
   "outputs": [
    {
     "name": "stderr",
     "output_type": "stream",
     "text": [
      "/home/phantichchai/anaconda3/envs/multi-transformer/lib/python3.10/site-packages/tqdm/auto.py:21: TqdmWarning: IProgress not found. Please update jupyter and ipywidgets. See https://ipywidgets.readthedocs.io/en/stable/user_install.html\n",
      "  from .autonotebook import tqdm as notebook_tqdm\n"
     ]
    }
   ],
   "source": [
    "from dataset import GameplayActionPairVideoDataset\n",
    "from torch.utils.data import Dataset, DataLoader\n",
    "from transformers import BertTokenizer\n",
    "import torch\n",
    "from utils import custom_collate_fn\n",
    "from model import Agent, device\n",
    "from torch import nn, optim"
   ]
  },
  {
   "cell_type": "code",
   "execution_count": 2,
   "id": "eb8e5664-7842-4a9e-ab5d-9f3e0d6145a7",
   "metadata": {},
   "outputs": [],
   "source": [
    "root_dir = \"output_logs\""
   ]
  },
  {
   "cell_type": "code",
   "execution_count": 3,
   "id": "e50cc19f-4e0b-4f1e-bb94-a4737ac44936",
   "metadata": {},
   "outputs": [
    {
     "name": "stderr",
     "output_type": "stream",
     "text": [
      "/home/phantichchai/anaconda3/envs/multi-transformer/lib/python3.10/site-packages/huggingface_hub/file_download.py:1132: FutureWarning: `resume_download` is deprecated and will be removed in version 1.0.0. Downloads always resume when possible. If you want to force a new download, use `force_download=True`.\n",
      "  warnings.warn(\n"
     ]
    }
   ],
   "source": [
    "tokenizer = BertTokenizer.from_pretrained('bert-base-uncased')\n",
    "dataset = GameplayActionPairVideoDataset(root_dir=root_dir, tokenizer=tokenizer)"
   ]
  },
  {
   "cell_type": "code",
   "execution_count": 4,
   "id": "c4f7f2f8-44cb-4726-8c78-491b5c3804bc",
   "metadata": {},
   "outputs": [
    {
     "data": {
      "text/plain": [
       "<torch.utils.data.dataloader.DataLoader at 0x7f464c2709a0>"
      ]
     },
     "execution_count": 4,
     "metadata": {},
     "output_type": "execute_result"
    }
   ],
   "source": [
    "dataloader = DataLoader(dataset, batch_size=1, shuffle=True, collate_fn=custom_collate_fn)\n",
    "dataloader"
   ]
  },
  {
   "cell_type": "code",
   "execution_count": 5,
   "id": "227e2e86-d3d4-4066-a332-a7f6459c36f7",
   "metadata": {},
   "outputs": [],
   "source": [
    "agent = Agent(debug=False).to(device)"
   ]
  },
  {
   "cell_type": "code",
   "execution_count": 6,
   "id": "59db9cc5-4a73-4d03-b813-58e72ba55867",
   "metadata": {},
   "outputs": [],
   "source": [
    "criterion = nn.MSELoss()\n",
    "optimizer = optim.Adam(agent.parameters(), lr=0.001)"
   ]
  },
  {
   "cell_type": "code",
   "execution_count": 7,
   "id": "e1a27841-c6a6-4dbc-a97a-6d104b7a66ba",
   "metadata": {},
   "outputs": [],
   "source": [
    "num_epochs = 3"
   ]
  },
  {
   "cell_type": "code",
   "execution_count": 8,
   "id": "a117ccd1-5bf3-4fe9-93c5-e62a4b273447",
   "metadata": {
    "scrolled": true
   },
   "outputs": [
    {
     "name": "stdout",
     "output_type": "stream",
     "text": [
      "logits shape: torch.Size([1, 6, 12])\n",
      "action shape: torch.Size([1, 60, 12])\n",
      "logits shape: torch.Size([1, 6, 12])\n",
      "action shape: torch.Size([1, 130, 12])\n",
      "logits shape: torch.Size([1, 6, 12])\n",
      "action shape: torch.Size([1, 142, 12])\n",
      "logits shape: torch.Size([1, 5, 12])\n",
      "action shape: torch.Size([1, 96, 12])\n",
      "logits shape: torch.Size([1, 5, 12])\n",
      "action shape: torch.Size([1, 124, 12])\n",
      "logits shape: torch.Size([1, 6, 12])\n",
      "action shape: torch.Size([1, 73, 12])\n",
      "logits shape: torch.Size([1, 6, 12])\n",
      "action shape: torch.Size([1, 119, 12])\n",
      "logits shape: torch.Size([1, 6, 12])\n",
      "action shape: torch.Size([1, 144, 12])\n",
      "logits shape: torch.Size([1, 6, 12])\n",
      "action shape: torch.Size([1, 108, 12])\n",
      "logits shape: torch.Size([1, 5, 12])\n",
      "action shape: torch.Size([1, 170, 12])\n",
      "logits shape: torch.Size([1, 6, 12])\n",
      "action shape: torch.Size([1, 134, 12])\n",
      "logits shape: torch.Size([1, 6, 12])\n",
      "action shape: torch.Size([1, 60, 12])\n",
      "logits shape: torch.Size([1, 6, 12])\n",
      "action shape: torch.Size([1, 142, 12])\n",
      "logits shape: torch.Size([1, 6, 12])\n",
      "action shape: torch.Size([1, 119, 12])\n",
      "logits shape: torch.Size([1, 5, 12])\n",
      "action shape: torch.Size([1, 124, 12])\n",
      "logits shape: torch.Size([1, 6, 12])\n",
      "action shape: torch.Size([1, 73, 12])\n",
      "logits shape: torch.Size([1, 5, 12])\n",
      "action shape: torch.Size([1, 170, 12])\n",
      "logits shape: torch.Size([1, 6, 12])\n",
      "action shape: torch.Size([1, 134, 12])\n",
      "logits shape: torch.Size([1, 6, 12])\n",
      "action shape: torch.Size([1, 144, 12])\n",
      "logits shape: torch.Size([1, 6, 12])\n",
      "action shape: torch.Size([1, 130, 12])\n",
      "logits shape: torch.Size([1, 6, 12])\n",
      "action shape: torch.Size([1, 108, 12])\n",
      "logits shape: torch.Size([1, 5, 12])\n",
      "action shape: torch.Size([1, 96, 12])\n",
      "logits shape: torch.Size([1, 5, 12])\n",
      "action shape: torch.Size([1, 124, 12])\n",
      "logits shape: torch.Size([1, 6, 12])\n",
      "action shape: torch.Size([1, 108, 12])\n",
      "logits shape: torch.Size([1, 5, 12])\n",
      "action shape: torch.Size([1, 96, 12])\n",
      "logits shape: torch.Size([1, 6, 12])\n",
      "action shape: torch.Size([1, 119, 12])\n",
      "logits shape: torch.Size([1, 6, 12])\n",
      "action shape: torch.Size([1, 142, 12])\n",
      "logits shape: torch.Size([1, 6, 12])\n",
      "action shape: torch.Size([1, 73, 12])\n",
      "logits shape: torch.Size([1, 6, 12])\n",
      "action shape: torch.Size([1, 60, 12])\n",
      "logits shape: torch.Size([1, 6, 12])\n",
      "action shape: torch.Size([1, 134, 12])\n",
      "logits shape: torch.Size([1, 6, 12])\n",
      "action shape: torch.Size([1, 130, 12])\n",
      "logits shape: torch.Size([1, 6, 12])\n",
      "action shape: torch.Size([1, 144, 12])\n",
      "logits shape: torch.Size([1, 5, 12])\n",
      "action shape: torch.Size([1, 170, 12])\n"
     ]
    }
   ],
   "source": [
    "for epoch in range(num_epochs):\n",
    "    for batch, (instruction, frame, action) in enumerate(dataloader):\n",
    "        frame = frame.to(device)\n",
    "        _, _, channel, height, width = frame.shape\n",
    "        images = frame.reshape(-1, channel, height, width).to(device)\n",
    "        instruction = tokenizer.decode(*instruction)\n",
    "        optimizer.zero_grad()\n",
    "        logits = agent(images, frame, instruction)\n",
    "        print(f\"logits shape: {logits.shape}\")\n",
    "        print(f\"action shape: {action.shape}\")\n",
    "        # loss = criterion(logits, action)\n",
    "        # loss.backward()\n",
    "        optimizer.step()\n",
    "    # print(f\"Epoch [{epoch+1}/{num_epochs}], Loss: {loss.item():.4f}\")"
   ]
  },
  {
   "cell_type": "code",
   "execution_count": null,
   "id": "da44fcf3-ce6d-4864-845d-b2a9db0843dd",
   "metadata": {},
   "outputs": [],
   "source": []
  }
 ],
 "metadata": {
  "kernelspec": {
   "display_name": "Python 3 (ipykernel)",
   "language": "python",
   "name": "python3"
  },
  "language_info": {
   "codemirror_mode": {
    "name": "ipython",
    "version": 3
   },
   "file_extension": ".py",
   "mimetype": "text/x-python",
   "name": "python",
   "nbconvert_exporter": "python",
   "pygments_lexer": "ipython3",
   "version": "3.10.13"
  }
 },
 "nbformat": 4,
 "nbformat_minor": 5
}
