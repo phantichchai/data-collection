{
 "cells": [
  {
   "cell_type": "code",
   "execution_count": 2,
   "id": "bd7781d6-0b3e-4ed4-9099-7f95bbc8b12e",
   "metadata": {},
   "outputs": [],
   "source": [
    "from dataset import GameplayActionPairVideoDataset\n",
    "from torch.utils.data import Dataset, DataLoader\n",
    "from transformers import BertTokenizer\n",
    "import torch\n",
    "from utils import custom_collate_fn"
   ]
  },
  {
   "cell_type": "code",
   "execution_count": 3,
   "id": "eb8e5664-7842-4a9e-ab5d-9f3e0d6145a7",
   "metadata": {},
   "outputs": [],
   "source": [
    "root_dir = \"output_logs\""
   ]
  },
  {
   "cell_type": "code",
   "execution_count": 4,
   "id": "e50cc19f-4e0b-4f1e-bb94-a4737ac44936",
   "metadata": {},
   "outputs": [
    {
     "name": "stderr",
     "output_type": "stream",
     "text": [
      "/home/phantichchai/anaconda3/envs/multi-transformer/lib/python3.10/site-packages/huggingface_hub/file_download.py:1132: FutureWarning: `resume_download` is deprecated and will be removed in version 1.0.0. Downloads always resume when possible. If you want to force a new download, use `force_download=True`.\n",
      "  warnings.warn(\n"
     ]
    }
   ],
   "source": [
    "tokenizer = BertTokenizer.from_pretrained('bert-base-uncased')\n",
    "dataset = GameplayActionPairVideoDataset(root_dir=root_dir, tokenizer=tokenizer)"
   ]
  },
  {
   "cell_type": "code",
   "execution_count": 6,
   "id": "c4f7f2f8-44cb-4726-8c78-491b5c3804bc",
   "metadata": {},
   "outputs": [],
   "source": [
    "dataloader = DataLoader(dataset, batch_size=2, shuffle=True, collate_fn=custom_collate_fn)"
   ]
  },
  {
   "cell_type": "code",
   "execution_count": 7,
   "id": "8a24e390-1e2d-4bc0-812f-b4a22fa748c2",
   "metadata": {
    "scrolled": true
   },
   "outputs": [
    {
     "name": "stdout",
     "output_type": "stream",
     "text": [
      "Number of batch: 0\n",
      "Instructions text: tensor([ 101, 2770,  102])\n",
      "Video tensor shape: torch.Size([170, 3, 224, 224])\n",
      "Action example: torch.Size([170, 12])\n",
      "Instructions text: tensor([ 101, 5376,  102])\n",
      "Video tensor shape: torch.Size([170, 3, 224, 224])\n",
      "Action example: torch.Size([170, 12])\n",
      "--------------------------\n",
      "Number of batch: 1\n",
      "Instructions text: tensor([  101, 11454,   102,     0])\n",
      "Video tensor shape: torch.Size([144, 3, 224, 224])\n",
      "Action example: torch.Size([144, 12])\n",
      "Instructions text: tensor([ 101, 5338, 2886,  102])\n",
      "Video tensor shape: torch.Size([144, 3, 224, 224])\n",
      "Action example: torch.Size([144, 12])\n",
      "--------------------------\n",
      "Number of batch: 2\n",
      "Instructions text: tensor([ 101, 2693, 2830,  102])\n",
      "Video tensor shape: torch.Size([130, 3, 224, 224])\n",
      "Action example: torch.Size([130, 12])\n",
      "Instructions text: tensor([ 101, 2693, 8848,  102])\n",
      "Video tensor shape: torch.Size([130, 3, 224, 224])\n",
      "Action example: torch.Size([130, 12])\n",
      "--------------------------\n",
      "Number of batch: 3\n",
      "Instructions text: tensor([ 101, 2693, 2187,  102])\n",
      "Video tensor shape: torch.Size([142, 3, 224, 224])\n",
      "Action example: torch.Size([142, 12])\n",
      "Instructions text: tensor([  101, 19529,  8066,   102])\n",
      "Video tensor shape: torch.Size([142, 3, 224, 224])\n",
      "Action example: torch.Size([142, 12])\n",
      "--------------------------\n",
      "Number of batch: 4\n",
      "Instructions text: tensor([ 101, 2693, 2157,  102])\n",
      "Video tensor shape: torch.Size([134, 3, 224, 224])\n",
      "Action example: torch.Size([134, 12])\n",
      "Instructions text: tensor([  101, 19529,  6532,   102])\n",
      "Video tensor shape: torch.Size([134, 3, 224, 224])\n",
      "Action example: torch.Size([134, 12])\n",
      "--------------------------\n",
      "Number of batch: 5\n",
      "Instructions text: tensor([ 101, 3671, 2886,  102])\n",
      "Video tensor shape: torch.Size([108, 3, 224, 224])\n",
      "Action example: torch.Size([108, 12])\n",
      "--------------------------\n"
     ]
    }
   ],
   "source": [
    "for batch, (instruction, frames, actions) in enumerate(dataloader):\n",
    "    print(f\"Number of batch: {batch}\")\n",
    "    for i in range(len(instruction)):\n",
    "        print(f\"Instructions text: {instruction[i]}\")\n",
    "        print(f\"Video tensor shape: {frames[i].shape}\")\n",
    "        print(f\"Action example: {actions[i].shape}\")\n",
    "    print(\"--------------------------\")"
   ]
  },
  {
   "cell_type": "code",
   "execution_count": null,
   "id": "6c6cd8f2-3896-4fbb-a3be-ada1c44403c0",
   "metadata": {},
   "outputs": [],
   "source": []
  }
 ],
 "metadata": {
  "kernelspec": {
   "display_name": "Python 3 (ipykernel)",
   "language": "python",
   "name": "python3"
  },
  "language_info": {
   "codemirror_mode": {
    "name": "ipython",
    "version": 3
   },
   "file_extension": ".py",
   "mimetype": "text/x-python",
   "name": "python",
   "nbconvert_exporter": "python",
   "pygments_lexer": "ipython3",
   "version": "3.10.13"
  }
 },
 "nbformat": 4,
 "nbformat_minor": 5
}
