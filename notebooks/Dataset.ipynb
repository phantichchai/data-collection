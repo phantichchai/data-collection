{
 "cells": [
  {
   "cell_type": "code",
   "execution_count": 26,
   "id": "f4aa7b58-cc05-46fa-ae16-50fbc01592f6",
   "metadata": {},
   "outputs": [],
   "source": [
    "import torch\n",
    "from torch import nn\n",
    "from torch.utils.data import Dataset\n",
    "import os\n",
    "import cv2\n",
    "import json\n",
    "import numpy as np\n",
    "import pandas as pd\n",
    "from transformers import BertTokenizer"
   ]
  },
  {
   "cell_type": "code",
   "execution_count": 34,
   "id": "32f4da02-2219-45c5-9d1a-07332d954eec",
   "metadata": {},
   "outputs": [],
   "source": [
    "ACTION_MAP = {\n",
    "    'w': 0,\n",
    "    'a': 1,\n",
    "    's': 2,\n",
    "    'd': 3,\n",
    "    'Key.space': 4,\n",
    "    'Key.shift': 5,\n",
    "    'q': 6,\n",
    "    'e': 7\n",
    "}\n",
    "\n",
    "EVENT_TYPE = {\n",
    "    'idle': 0,\n",
    "    'click': 1,\n",
    "    'release': 2,\n",
    "    'move': 3\n",
    "}\n",
    "\n",
    "MOUSE_BUTTON = {\n",
    "    'idle': 0,\n",
    "    'Button.left': 1,\n",
    "    'Button.right': 2\n",
    "}"
   ]
  },
  {
   "cell_type": "code",
   "execution_count": 68,
   "id": "149581c1-ea71-4afe-b007-f156f405e8fe",
   "metadata": {},
   "outputs": [],
   "source": [
    "class GameplayActionPairVideoDataset(Dataset):\n",
    "    def __init__(self, root_dir, tokenizer, transform=None):\n",
    "        \"\"\"\n",
    "        Args:\n",
    "            root_dir (string): Root directory containing the subdirectories with JSON and MP4 files.\n",
    "            transform (callable, optional): Optional transform to be applied on a sample.\n",
    "        \"\"\"\n",
    "        self.root_dir = root_dir\n",
    "        self.transform = transform\n",
    "        self.data = self._load_data()\n",
    "        self.tokenizer = tokenizer\n",
    "\n",
    "    def _load_data(self):\n",
    "        data = []\n",
    "        for subdir in os.listdir(self.root_dir):\n",
    "            subdir_path = os.path.join(self.root_dir, subdir)\n",
    "            if os.path.isdir(subdir_path):\n",
    "                frame_logs = os.path.join(subdir_path, 'frame_logs.json')\n",
    "                gameplay = os.path.join(subdir_path, 'gameplay.mp4')\n",
    "                if os.path.isfile(frame_logs) and os.path.isfile(gameplay):\n",
    "                    with open(frame_logs, 'r') as file:\n",
    "                        annotation = json.load(file)\n",
    "                        annotation['video_path'] = gameplay\n",
    "                        data.append(annotation)\n",
    "        return data\n",
    "\n",
    "    def frame_logs_to_actions_tensor(self, actions):\n",
    "        actions_tensor = []\n",
    "        num_actions = len(action_map) + 4\n",
    "        tensor_size = (num_actions,)\n",
    "        \n",
    "        for action in actions:\n",
    "            key_events = [key_event['key'] for key_event in action['key_events']]\n",
    "            mouse_events = []\n",
    "            action_tensor = torch.zeros(tensor_size)\n",
    "    \n",
    "            for key in key_events:\n",
    "                action_index = action_map.get(key, -1)\n",
    "                if action_index != -1:\n",
    "                    action_tensor[action_index] = 1\n",
    "            \n",
    "            for mouse_event in action['mouse_events']:\n",
    "                mouse_events = [mouse_event['event_type'], mouse_event['position'][0], mouse_event['position'][1], mouse_event.get('button', 'idle')]\n",
    "                action_tensor[8] = event_type.get(mouse_events[0], 0)\n",
    "                action_tensor[9] = mouse_events[1]\n",
    "                action_tensor[10] = mouse_events[2]\n",
    "                action_tensor[11] = mouse_button.get(mouse_events[3], 0)\n",
    "                \n",
    "            actions_tensor.append(action_tensor)\n",
    "        actions_tensor = np.array(actions_tensor)\n",
    "        actions_tensor = torch.tensor(actions_tensor)\n",
    "        return actions_tensor\n",
    "\n",
    "    def preprocess_frame(self, frame, target_size=(224, 224)):\n",
    "        # Resize the frame\n",
    "        resized_frame = cv2.resize(frame, target_size)\n",
    "        \n",
    "        # Normalize the frame (assuming model expects input in range [0, 1])\n",
    "        normalized_frame = resized_frame / 255.0\n",
    "    \n",
    "        return normalized_frame\n",
    "    \n",
    "    def __len__(self):\n",
    "        return len(self.data)\n",
    "\n",
    "    def __getitem__(self, idx):\n",
    "        video_info = self.data[idx]\n",
    "        video_path = video_info['video_path']\n",
    "\n",
    "        # Read the video using OpenCV\n",
    "        cap = cv2.VideoCapture(video_path)\n",
    "        frames = []\n",
    "        while cap.isOpened():\n",
    "            ret, frame = cap.read()\n",
    "            if not ret:\n",
    "                break\n",
    "            processed_frame = self.preprocess_frame(frame)\n",
    "            frames.append(processed_frame)\n",
    "        cap.release()\n",
    "\n",
    "        # Convert list of frame into NumPy array\n",
    "        frames = np.array(frames)\n",
    "\n",
    "        # Convert to tensor and permute dimensions to T, C, H, W\n",
    "        frames = torch.tensor(frames, dtype=torch.float32).permute(0, 3, 1, 2)\n",
    "        instruction = self.tokenizer(text=self.data[idx]['instruction'],\n",
    "                                     return_tensors='pt',\n",
    "                                     padding=True,\n",
    "                                     truncation=True,\n",
    "                                     max_length=128\n",
    "                                    )['input_ids']\n",
    "        actions = self.frame_logs_to_actions_tensor(self.data[idx]['actions'])\n",
    "\n",
    "        if self.transform:\n",
    "            frames = self.transform(frames)\n",
    "\n",
    "        return instruction, frames, actions"
   ]
  },
  {
   "cell_type": "code",
   "execution_count": 108,
   "id": "5e71b991-878a-440a-b8cb-384fe0a8df4c",
   "metadata": {},
   "outputs": [],
   "source": [
    "root_dir = \"output_logs\""
   ]
  },
  {
   "cell_type": "code",
   "execution_count": 109,
   "id": "12bf2eda-db86-43ed-91e3-f3f6920b3f79",
   "metadata": {},
   "outputs": [
    {
     "name": "stderr",
     "output_type": "stream",
     "text": [
      "/home/phantichchai/anaconda3/envs/multi-transformer/lib/python3.10/site-packages/huggingface_hub/file_download.py:1132: FutureWarning: `resume_download` is deprecated and will be removed in version 1.0.0. Downloads always resume when possible. If you want to force a new download, use `force_download=True`.\n",
      "  warnings.warn(\n"
     ]
    }
   ],
   "source": [
    "tokenizer = BertTokenizer.from_pretrained(\"bert-base-uncased\")\n",
    "dataset = GameplayActionPairVideoDataset(root_dir=root_dir, tokenizer=tokenizer)"
   ]
  },
  {
   "cell_type": "code",
   "execution_count": 110,
   "id": "d1f1ee35-9966-4d51-a4d3-691aa8c5a358",
   "metadata": {},
   "outputs": [],
   "source": [
    "instruction, frames, actions = dataset[8]"
   ]
  },
  {
   "cell_type": "code",
   "execution_count": 111,
   "id": "370929e8-fc06-48c2-9207-0ff0e19ba865",
   "metadata": {},
   "outputs": [
    {
     "name": "stdout",
     "output_type": "stream",
     "text": [
      "Instructions text: torch.Size([1, 3])\n",
      "Video tensor shape: torch.Size([124, 3, 224, 224])\n",
      "Action example: torch.Size([124, 12])\n"
     ]
    }
   ],
   "source": [
    "print(f\"Instructions text: {instruction.shape}\")\n",
    "print(f\"Video tensor shape: {frames.shape}\")\n",
    "print(f\"Action example: {actions.shape}\")"
   ]
  },
  {
   "cell_type": "markdown",
   "id": "9443a83f-4b49-4804-a216-be407e45dab9",
   "metadata": {},
   "source": [
    "## Development code to check unique on each action"
   ]
  },
  {
   "cell_type": "code",
   "execution_count": 112,
   "id": "87e62871-e958-49e9-ab98-9e63ff431d82",
   "metadata": {},
   "outputs": [
    {
     "data": {
      "text/plain": [
       "tensor([[ 101, 5376,  102]])"
      ]
     },
     "execution_count": 112,
     "metadata": {},
     "output_type": "execute_result"
    }
   ],
   "source": [
    "instruction"
   ]
  },
  {
   "cell_type": "code",
   "execution_count": 113,
   "id": "84f89a92-8137-4181-9627-2682c4221f3e",
   "metadata": {
    "scrolled": true
   },
   "outputs": [
    {
     "data": {
      "text/plain": [
       "tensor([[[[0.5137, 0.5137, 0.5216,  ..., 0.4588, 0.4392, 0.4745],\n",
       "          [0.5137, 0.5137, 0.5216,  ..., 0.4588, 0.4667, 0.4745],\n",
       "          [0.5373, 0.5569, 0.5216,  ..., 0.4667, 0.4745, 0.4745],\n",
       "          ...,\n",
       "          [0.4588, 0.4510, 0.4824,  ..., 0.4980, 0.4863, 0.5059],\n",
       "          [0.4902, 0.5137, 0.4588,  ..., 0.4902, 0.5059, 0.5059],\n",
       "          [0.4745, 0.4510, 0.4588,  ..., 0.4902, 0.5059, 0.5059]],\n",
       "\n",
       "         [[0.4039, 0.4039, 0.4118,  ..., 0.4000, 0.3804, 0.4157],\n",
       "          [0.4039, 0.4039, 0.4118,  ..., 0.4000, 0.4078, 0.4157],\n",
       "          [0.4275, 0.4471, 0.4118,  ..., 0.4078, 0.4157, 0.4157],\n",
       "          ...,\n",
       "          [0.3529, 0.3451, 0.3765,  ..., 0.4000, 0.3882, 0.4078],\n",
       "          [0.3843, 0.4078, 0.3529,  ..., 0.3922, 0.3961, 0.3961],\n",
       "          [0.3686, 0.3451, 0.3529,  ..., 0.3922, 0.3961, 0.3961]],\n",
       "\n",
       "         [[0.3725, 0.3725, 0.3804,  ..., 0.3843, 0.3647, 0.4000],\n",
       "          [0.3725, 0.3725, 0.3804,  ..., 0.3843, 0.3922, 0.4000],\n",
       "          [0.3961, 0.4157, 0.3804,  ..., 0.3922, 0.4000, 0.4000],\n",
       "          ...,\n",
       "          [0.3451, 0.3373, 0.3686,  ..., 0.3647, 0.3529, 0.3725],\n",
       "          [0.3765, 0.4000, 0.3647,  ..., 0.3569, 0.3647, 0.3647],\n",
       "          [0.3608, 0.3373, 0.3647,  ..., 0.3569, 0.3647, 0.3647]]],\n",
       "\n",
       "\n",
       "        [[[0.5255, 0.5137, 0.5216,  ..., 0.4588, 0.4392, 0.4745],\n",
       "          [0.5255, 0.5137, 0.5216,  ..., 0.4588, 0.4667, 0.4745],\n",
       "          [0.5333, 0.5529, 0.5216,  ..., 0.4667, 0.4745, 0.4863],\n",
       "          ...,\n",
       "          [0.4588, 0.4549, 0.4745,  ..., 0.4980, 0.4824, 0.4941],\n",
       "          [0.4784, 0.5137, 0.4510,  ..., 0.4980, 0.5059, 0.5059],\n",
       "          [0.4784, 0.4627, 0.4627,  ..., 0.4980, 0.5059, 0.5059]],\n",
       "\n",
       "         [[0.4157, 0.4039, 0.4118,  ..., 0.4000, 0.3804, 0.4157],\n",
       "          [0.4157, 0.4039, 0.4118,  ..., 0.4000, 0.4078, 0.4157],\n",
       "          [0.4235, 0.4431, 0.4118,  ..., 0.4078, 0.4157, 0.4275],\n",
       "          ...,\n",
       "          [0.3529, 0.3490, 0.3686,  ..., 0.4000, 0.3843, 0.3961],\n",
       "          [0.3765, 0.4039, 0.3451,  ..., 0.4000, 0.3961, 0.3961],\n",
       "          [0.3765, 0.3529, 0.3569,  ..., 0.4000, 0.3961, 0.3961]],\n",
       "\n",
       "         [[0.3843, 0.3725, 0.3804,  ..., 0.3843, 0.3647, 0.4000],\n",
       "          [0.3843, 0.3725, 0.3804,  ..., 0.3843, 0.3922, 0.4000],\n",
       "          [0.3922, 0.4078, 0.3804,  ..., 0.3922, 0.4000, 0.4118],\n",
       "          ...,\n",
       "          [0.3451, 0.3412, 0.3490,  ..., 0.3647, 0.3569, 0.3686],\n",
       "          [0.3569, 0.4039, 0.3569,  ..., 0.3725, 0.3647, 0.3647],\n",
       "          [0.3569, 0.3529, 0.3686,  ..., 0.3725, 0.3647, 0.3647]]],\n",
       "\n",
       "\n",
       "        [[[0.5255, 0.5137, 0.5216,  ..., 0.4588, 0.4392, 0.4745],\n",
       "          [0.5255, 0.5137, 0.5216,  ..., 0.4627, 0.4667, 0.4745],\n",
       "          [0.5333, 0.5529, 0.5216,  ..., 0.4667, 0.4745, 0.4863],\n",
       "          ...,\n",
       "          [0.4588, 0.4549, 0.4745,  ..., 0.4980, 0.4824, 0.4941],\n",
       "          [0.4784, 0.5137, 0.4510,  ..., 0.4980, 0.5059, 0.5059],\n",
       "          [0.4784, 0.4627, 0.4627,  ..., 0.4980, 0.5059, 0.5059]],\n",
       "\n",
       "         [[0.4157, 0.4039, 0.4118,  ..., 0.4000, 0.3804, 0.4157],\n",
       "          [0.4157, 0.4039, 0.4118,  ..., 0.4039, 0.4078, 0.4157],\n",
       "          [0.4235, 0.4431, 0.4118,  ..., 0.4078, 0.4157, 0.4275],\n",
       "          ...,\n",
       "          [0.3529, 0.3490, 0.3686,  ..., 0.4000, 0.3843, 0.3961],\n",
       "          [0.3765, 0.4039, 0.3451,  ..., 0.4000, 0.3961, 0.3961],\n",
       "          [0.3765, 0.3529, 0.3569,  ..., 0.4000, 0.3961, 0.3961]],\n",
       "\n",
       "         [[0.3843, 0.3725, 0.3804,  ..., 0.3843, 0.3647, 0.4000],\n",
       "          [0.3843, 0.3725, 0.3804,  ..., 0.3882, 0.3922, 0.4000],\n",
       "          [0.3922, 0.4118, 0.3804,  ..., 0.3922, 0.4000, 0.4118],\n",
       "          ...,\n",
       "          [0.3451, 0.3412, 0.3490,  ..., 0.3647, 0.3569, 0.3686],\n",
       "          [0.3569, 0.4039, 0.3569,  ..., 0.3725, 0.3647, 0.3647],\n",
       "          [0.3569, 0.3529, 0.3686,  ..., 0.3725, 0.3647, 0.3647]]],\n",
       "\n",
       "\n",
       "        ...,\n",
       "\n",
       "\n",
       "        [[[0.4824, 0.5137, 0.5216,  ..., 0.4549, 0.4549, 0.4588],\n",
       "          [0.5294, 0.5137, 0.5294,  ..., 0.4549, 0.4353, 0.4667],\n",
       "          [0.5216, 0.5176, 0.5216,  ..., 0.4627, 0.4549, 0.4824],\n",
       "          ...,\n",
       "          [0.5020, 0.4784, 0.4941,  ..., 0.4784, 0.4627, 0.4824],\n",
       "          [0.5020, 0.4941, 0.4941,  ..., 0.4784, 0.4784, 0.4784],\n",
       "          [0.5059, 0.4941, 0.4941,  ..., 0.4784, 0.4784, 0.4784]],\n",
       "\n",
       "         [[0.3843, 0.4196, 0.4118,  ..., 0.3961, 0.3961, 0.4000],\n",
       "          [0.4275, 0.4196, 0.4196,  ..., 0.3961, 0.3765, 0.4078],\n",
       "          [0.4235, 0.4235, 0.4118,  ..., 0.4039, 0.3961, 0.4235],\n",
       "          ...,\n",
       "          [0.3882, 0.3608, 0.3725,  ..., 0.3843, 0.3882, 0.3922],\n",
       "          [0.3804, 0.3725, 0.3725,  ..., 0.3922, 0.4000, 0.4000],\n",
       "          [0.3843, 0.3725, 0.3725,  ..., 0.3922, 0.4000, 0.4000]],\n",
       "\n",
       "         [[0.3608, 0.3725, 0.3804,  ..., 0.3804, 0.3804, 0.3843],\n",
       "          [0.4039, 0.3725, 0.3882,  ..., 0.3804, 0.3608, 0.3922],\n",
       "          [0.3961, 0.3765, 0.3804,  ..., 0.3882, 0.3804, 0.4078],\n",
       "          ...,\n",
       "          [0.3765, 0.3451, 0.3569,  ..., 0.3608, 0.3647, 0.3843],\n",
       "          [0.3647, 0.3569, 0.3569,  ..., 0.3804, 0.3686, 0.3686],\n",
       "          [0.3686, 0.3569, 0.3569,  ..., 0.3804, 0.3686, 0.3686]]],\n",
       "\n",
       "\n",
       "        [[[0.5020, 0.5137, 0.5216,  ..., 0.4549, 0.4549, 0.4588],\n",
       "          [0.5216, 0.5176, 0.5294,  ..., 0.4549, 0.4353, 0.4745],\n",
       "          [0.5216, 0.5176, 0.5216,  ..., 0.4627, 0.4588, 0.4824],\n",
       "          ...,\n",
       "          [0.4941, 0.4941, 0.4941,  ..., 0.4902, 0.4745, 0.4863],\n",
       "          [0.4941, 0.4941, 0.4863,  ..., 0.4824, 0.4784, 0.4784],\n",
       "          [0.4941, 0.4941, 0.4863,  ..., 0.4824, 0.4784, 0.4706]],\n",
       "\n",
       "         [[0.4000, 0.4196, 0.4118,  ..., 0.3961, 0.3961, 0.4000],\n",
       "          [0.4235, 0.4235, 0.4196,  ..., 0.3961, 0.3765, 0.4157],\n",
       "          [0.4235, 0.4196, 0.4118,  ..., 0.4039, 0.4000, 0.4235],\n",
       "          ...,\n",
       "          [0.3725, 0.3725, 0.3725,  ..., 0.3882, 0.3922, 0.3922],\n",
       "          [0.3725, 0.3725, 0.3608,  ..., 0.3843, 0.3922, 0.4000],\n",
       "          [0.3725, 0.3725, 0.3608,  ..., 0.3843, 0.3922, 0.3922]],\n",
       "\n",
       "         [[0.3765, 0.3725, 0.3804,  ..., 0.3804, 0.3804, 0.3843],\n",
       "          [0.3961, 0.3765, 0.3922,  ..., 0.3804, 0.3608, 0.4000],\n",
       "          [0.3961, 0.3804, 0.3804,  ..., 0.3882, 0.3843, 0.4078],\n",
       "          ...,\n",
       "          [0.3569, 0.3569, 0.3569,  ..., 0.3765, 0.3765, 0.3765],\n",
       "          [0.3569, 0.3569, 0.3569,  ..., 0.3765, 0.3804, 0.3686],\n",
       "          [0.3569, 0.3569, 0.3569,  ..., 0.3765, 0.3804, 0.3608]]],\n",
       "\n",
       "\n",
       "        [[[0.5059, 0.5098, 0.5216,  ..., 0.4549, 0.4471, 0.4549],\n",
       "          [0.5216, 0.5176, 0.5333,  ..., 0.4627, 0.4392, 0.4824],\n",
       "          [0.5216, 0.5176, 0.5216,  ..., 0.4706, 0.4667, 0.4824],\n",
       "          ...,\n",
       "          [0.5020, 0.4941, 0.4941,  ..., 0.4784, 0.4824, 0.4745],\n",
       "          [0.4941, 0.4941, 0.4824,  ..., 0.4824, 0.4784, 0.4784],\n",
       "          [0.4941, 0.4941, 0.4824,  ..., 0.4824, 0.4784, 0.4706]],\n",
       "\n",
       "         [[0.4078, 0.4157, 0.4118,  ..., 0.3961, 0.3882, 0.3961],\n",
       "          [0.4235, 0.4235, 0.4235,  ..., 0.4039, 0.3804, 0.4235],\n",
       "          [0.4235, 0.4196, 0.4118,  ..., 0.4118, 0.4078, 0.4235],\n",
       "          ...,\n",
       "          [0.3804, 0.3725, 0.3725,  ..., 0.3922, 0.3961, 0.4000],\n",
       "          [0.3725, 0.3725, 0.3569,  ..., 0.3843, 0.3922, 0.4000],\n",
       "          [0.3725, 0.3725, 0.3569,  ..., 0.3843, 0.3922, 0.3922]],\n",
       "\n",
       "         [[0.3804, 0.3686, 0.3804,  ..., 0.3804, 0.3725, 0.3804],\n",
       "          [0.3961, 0.3765, 0.3922,  ..., 0.3882, 0.3647, 0.4078],\n",
       "          [0.3961, 0.3804, 0.3804,  ..., 0.3961, 0.3922, 0.4078],\n",
       "          ...,\n",
       "          [0.3647, 0.3569, 0.3569,  ..., 0.3804, 0.3686, 0.3686],\n",
       "          [0.3569, 0.3569, 0.3529,  ..., 0.3765, 0.3804, 0.3686],\n",
       "          [0.3569, 0.3569, 0.3529,  ..., 0.3765, 0.3804, 0.3608]]]])"
      ]
     },
     "execution_count": 113,
     "metadata": {},
     "output_type": "execute_result"
    }
   ],
   "source": [
    "frames"
   ]
  },
  {
   "cell_type": "code",
   "execution_count": 114,
   "id": "678193fc-7d6d-4ec6-9cba-92bba313b4a7",
   "metadata": {},
   "outputs": [
    {
     "data": {
      "text/plain": [
       "tensor([[0., 0., 0.,  ..., 0., 0., 0.],\n",
       "        [0., 0., 0.,  ..., 0., 0., 0.],\n",
       "        [0., 0., 0.,  ..., 0., 0., 0.],\n",
       "        ...,\n",
       "        [0., 0., 0.,  ..., 0., 0., 0.],\n",
       "        [0., 0., 0.,  ..., 0., 0., 0.],\n",
       "        [0., 0., 0.,  ..., 0., 0., 0.]])"
      ]
     },
     "execution_count": 114,
     "metadata": {},
     "output_type": "execute_result"
    }
   ],
   "source": [
    "actions"
   ]
  },
  {
   "cell_type": "code",
   "execution_count": null,
   "id": "380e9e56-9063-4957-8e95-bcf3462e4db0",
   "metadata": {},
   "outputs": [],
   "source": []
  }
 ],
 "metadata": {
  "kernelspec": {
   "display_name": "Python 3 (ipykernel)",
   "language": "python",
   "name": "python3"
  },
  "language_info": {
   "codemirror_mode": {
    "name": "ipython",
    "version": 3
   },
   "file_extension": ".py",
   "mimetype": "text/x-python",
   "name": "python",
   "nbconvert_exporter": "python",
   "pygments_lexer": "ipython3",
   "version": "3.10.13"
  }
 },
 "nbformat": 4,
 "nbformat_minor": 5
}
