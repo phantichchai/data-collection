{
 "cells": [
  {
   "cell_type": "code",
   "execution_count": 1,
   "id": "3c9cd63c-2ee3-4f8e-a53d-1024ae32aee5",
   "metadata": {},
   "outputs": [],
   "source": [
    "import numpy as np\n",
    "import gymnasium as gym\n",
    "from gymnasium import spaces\n",
    "import torch"
   ]
  },
  {
   "cell_type": "code",
   "execution_count": 14,
   "id": "5274706a-df9f-4780-b3b6-59be5bfdb892",
   "metadata": {},
   "outputs": [],
   "source": [
    "AGENT_SPACE = {\n",
    "    \"elemental_burst\": spaces.Discrete(2), # q \n",
    "    \"elemental_skill\": spaces.Discrete(2), # e\n",
    "    \"forward\": spaces.Discrete(2), # w\n",
    "    \"backard\": spaces.Discrete(2), # s\n",
    "    \"left\": spaces.Discrete(2), # a\n",
    "    \"right\": spaces.Discrete(2), # d\n",
    "    \"camera\": spaces.Box(low=-0, high=224, shape=(2,), dtype=int), # move\n",
    "    \"sprint\": spaces.Discrete(2), # Key.shift or Button.right\n",
    "    \"jump\": spaces.Discrete(2), # Key.space\n",
    "    \"attack\": spaces.Discrete(2) # Button.left\n",
    "}"
   ]
  },
  {
   "cell_type": "code",
   "execution_count": 15,
   "id": "4f08ba49-c280-49db-b02a-31824d2b57a7",
   "metadata": {},
   "outputs": [
    {
     "data": {
      "text/plain": [
       "array([ 15, 180])"
      ]
     },
     "execution_count": 15,
     "metadata": {},
     "output_type": "execute_result"
    }
   ],
   "source": [
    "AGENT_SPACE['camera'].sample()"
   ]
  },
  {
   "cell_type": "code",
   "execution_count": null,
   "id": "11eb3159-c530-4bae-9362-3ac77bbaa60d",
   "metadata": {},
   "outputs": [],
   "source": []
  }
 ],
 "metadata": {
  "kernelspec": {
   "display_name": "Python 3 (ipykernel)",
   "language": "python",
   "name": "python3"
  },
  "language_info": {
   "codemirror_mode": {
    "name": "ipython",
    "version": 3
   },
   "file_extension": ".py",
   "mimetype": "text/x-python",
   "name": "python",
   "nbconvert_exporter": "python",
   "pygments_lexer": "ipython3",
   "version": "3.10.13"
  }
 },
 "nbformat": 4,
 "nbformat_minor": 5
}
