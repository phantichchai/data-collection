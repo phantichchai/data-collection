{
 "cells": [
  {
   "cell_type": "code",
   "execution_count": 1,
   "id": "d727377d-d10c-453f-a375-38072f0909b7",
   "metadata": {},
   "outputs": [],
   "source": [
    "import torch\n",
    "import torch.nn as nn\n",
    "import math"
   ]
  },
  {
   "cell_type": "code",
   "execution_count": 2,
   "id": "79d6729c-be28-402f-b229-9fdc5229c756",
   "metadata": {},
   "outputs": [
    {
     "data": {
      "text/plain": [
       "'cuda'"
      ]
     },
     "execution_count": 2,
     "metadata": {},
     "output_type": "execute_result"
    }
   ],
   "source": [
    "device = \"cuda\" if torch.cuda.is_available() else \"cpu\"\n",
    "device"
   ]
  },
  {
   "cell_type": "code",
   "execution_count": 3,
   "id": "89e2f0e2-8a47-4361-91c7-66c4fe69a568",
   "metadata": {},
   "outputs": [],
   "source": [
    "class TransformerEncoder3D(nn.Module):\n",
    "    def __init__(self, emb_size, num_layers, num_heads, dim_feedforward, dropout):\n",
    "        super(TransformerEncoder3D, self).__init__()\n",
    "        encoder_layer = nn.TransformerEncoderLayer(d_model=emb_size, nhead=num_heads, dim_feedforward=dim_feedforward, dropout=dropout, batch_first=True)\n",
    "        self.transformer_encoder = nn.TransformerEncoder(encoder_layer, num_layers=num_layers)\n",
    "        \n",
    "    def forward(self, x):\n",
    "        x = self.transformer_encoder(x)\n",
    "        return x"
   ]
  },
  {
   "cell_type": "code",
   "execution_count": 4,
   "id": "6db6682e-022e-4f79-9a80-5bba576b1953",
   "metadata": {},
   "outputs": [],
   "source": [
    "class CausalSelfAttention(nn.Module):\n",
    "    def __init__(self, emb_size, num_heads, dropout):\n",
    "        super(CausalSelfAttention, self).__init__()\n",
    "        self.attention = nn.MultiheadAttention(embed_dim=emb_size, num_heads=num_heads, dropout=dropout)\n",
    "        self.mask = None\n",
    "\n",
    "    def forward(self, x):\n",
    "        seq_len = x.size(0)\n",
    "        if self.mask is None or self.mask.size(0) != seq_len:\n",
    "            self.mask = torch.triu(torch.ones(seq_len, seq_len), diagonal=1).bool().to(x.device)\n",
    "        attn_output, _ = self.attention(x, x, x, attn_mask=self.mask)\n",
    "        return attn_output\n",
    "\n",
    "class TemporalTransformerEncoder(nn.Module):\n",
    "    def __init__(self, emb_size, num_layers, num_heads, dim_feedforward, dropout):\n",
    "        super(TemporalTransformerEncoder, self).__init__()\n",
    "        self.layers = nn.ModuleList([\n",
    "            nn.TransformerEncoderLayer(d_model=emb_size, nhead=num_heads, dim_feedforward=dim_feedforward, dropout=dropout)\n",
    "            for _ in range(num_layers)\n",
    "        ])\n",
    "        self.causal_attention = CausalSelfAttention(emb_size, num_heads, dropout)\n",
    "        \n",
    "    def forward(self, x):\n",
    "        x = x.transpose(0, 1)  # Transformer expects sequence as first dimension\n",
    "        x = self.causal_attention(x)\n",
    "        for layer in self.layers:\n",
    "            x = layer(x)\n",
    "        x = x.transpose(0, 1)  # Revert back to original dimensions\n",
    "        return x"
   ]
  },
  {
   "cell_type": "code",
   "execution_count": 51,
   "id": "8fb5a914-0046-40fc-b5bf-23b7561bf8ac",
   "metadata": {},
   "outputs": [],
   "source": [
    "class VideoTransformerModel(nn.Module):\n",
    "    def __init__(self, \n",
    "                 video_dimension, \n",
    "                 emb_size,\n",
    "                 d_model,\n",
    "                 patch_size, \n",
    "                 num_layers_spatial, \n",
    "                 num_heads_spatial, \n",
    "                 dim_feedforward_spatial, \n",
    "                 dropout_spatial, \n",
    "                 num_layers_temporal, \n",
    "                 num_heads_temporal, \n",
    "                 dim_feedforward_temporal, \n",
    "                 dropout_temporal):\n",
    "        super(VideoTransformerModel, self).__init__()\n",
    "        self.patch_embedding = PatchEmbedding(video_dimension, patch_size, emb_size)\n",
    "        self.spatial_transformer = TransformerEncoder3D(d_model, num_layers_spatial, num_heads_spatial, dim_feedforward_spatial, dropout_spatial)\n",
    "        self.temporal_transformer = TemporalTransformerEncoder(d_model, num_layers_temporal, num_heads_temporal, dim_feedforward_temporal, dropout_temporal)\n",
    "        \n",
    "    def forward(self, x):\n",
    "        patches, spatial_dims = self.patch_embedding(x)\n",
    "        print(f\"Patches: {patches.shape}\")\n",
    "        spatially_encoded_patches = self.spatial_transformer(patches)\n",
    "        print(f\"Spatial: {spatially_encoded_patches.shape}\")\n",
    "        temporally_encoded_patches = self.temporal_transformer(spatially_encoded_patches)\n",
    "        print(f\"Temporal: {temporally_encoded_patches.shape}\")\n",
    "        batch_size = temporally_encoded_patches.size(0)\n",
    "        return temporally_encoded_patches"
   ]
  },
  {
   "cell_type": "code",
   "execution_count": 52,
   "id": "f183261b-a97d-4052-a577-ba3598fdf0e4",
   "metadata": {},
   "outputs": [
    {
     "name": "stdout",
     "output_type": "stream",
     "text": [
      "Patches: torch.Size([1, 6, 512])\n",
      "Spatial: torch.Size([1, 6, 512])\n",
      "Temporal: torch.Size([1, 6, 512])\n",
      "Output shape: torch.Size([1, 6, 512])\n"
     ]
    }
   ],
   "source": [
    "with torch.inference_mode():\n",
    "    model = VideoTransformerModel(\n",
    "        video_dimension=(11, 3, 128, 128),\n",
    "        emb_size=512,\n",
    "        d_model=512,\n",
    "        patch_size=(2, 8, 8),\n",
    "        num_layers_spatial=4,\n",
    "        num_heads_spatial=8,\n",
    "        dim_feedforward_spatial=2048,\n",
    "        dropout_spatial=0.1,\n",
    "        num_layers_temporal=4, \n",
    "        num_heads_temporal=8,\n",
    "        dim_feedforward_temporal=2048,\n",
    "        dropout_temporal=0.1\n",
    "    ).to(device)\n",
    "    outputs = model(torch.rand(1, 11, 3, 128, 128).to(device))\n",
    "    print(f\"Output shape: {outputs.shape}\")"
   ]
  },
  {
   "cell_type": "code",
   "execution_count": 43,
   "id": "e9a75af6-f6a2-4c20-8852-9057d4c10101",
   "metadata": {},
   "outputs": [],
   "source": [
    "class PatchEmbedding(nn.Module):\n",
    "    def __init__(self, video_dimensions, patch_dim, emb_size):\n",
    "        super(PatchEmbedding, self).__init__()\n",
    "        self.patch_dim = patch_dim\n",
    "        self.emb_size = emb_size\n",
    "        self.channels = video_dimensions[1]\n",
    "        self.video_height = video_dimensions[2]\n",
    "        self.video_width = video_dimensions[3]\n",
    "        \n",
    "        self.patch_video = nn.Conv3d(in_channels=self.channels,\n",
    "                                    out_channels=self.channels,\n",
    "                                    kernel_size=self.patch_dim,\n",
    "                                    stride=self.patch_dim)\n",
    "        \n",
    "        self.patch_first_frame = nn.Conv2d(in_channels=self.channels,\n",
    "                                           out_channels=self.channels,\n",
    "                                           kernel_size=self.patch_dim[1:],\n",
    "                                           stride=self.patch_dim[1:])\n",
    "        \n",
    "        self.flatten = nn.Flatten(start_dim=2, end_dim=-1)\n",
    "        patch_height = self.calculate_3d_conv_output_size(video_dimensions[2], self.patch_dim[1], self.patch_dim[1], 0)\n",
    "        patch_width = self.calculate_3d_conv_output_size(video_dimensions[3], self.patch_dim[2], self.patch_dim[2], 0)\n",
    "\n",
    "        flatten_size = self.channels * patch_height * patch_width\n",
    "        self.linear = nn.Linear(in_features=flatten_size,\n",
    "                                out_features=emb_size)\n",
    "    \n",
    "    def calculate_3d_conv_output_size(self, input_size, kernel_size, stride, padding):\n",
    "        return math.floor((input_size - kernel_size + 2 * padding) / stride) + 1\n",
    "    \n",
    "    def forward(self, x):\n",
    "        first_frame, frames = torch.split(x, [1, x.size(1)-1], dim=1)\n",
    "        first_frame = first_frame.transpose(1, 2).squeeze(dim=2)\n",
    "        first_frame = self.patch_first_frame(first_frame)\n",
    "        first_frame = first_frame.unsqueeze(dim=2).transpose(1, 2)\n",
    "        frames = frames.transpose(1, 2)\n",
    "        frames = self.patch_video(frames)\n",
    "        frames = frames.transpose(1, 2)\n",
    "        video_tokens = torch.cat([first_frame, frames], dim=1)\n",
    "        # print(f\"video_tokens shape: {video_tokens.shape}\")\n",
    "        video_tokens = self.flatten(video_tokens)\n",
    "        # print(f\"video_tokens flatten shape: {video_tokens.shape}\")\n",
    "        video_tokens = self.linear(video_tokens)\n",
    "        # print(f\"video_tokens linear shape: {video_tokens.shape}\")\n",
    "        return video_tokens, video_tokens.shape"
   ]
  },
  {
   "cell_type": "code",
   "execution_count": 44,
   "id": "351e3b7e-f386-4941-918e-477ef2983088",
   "metadata": {
    "scrolled": true
   },
   "outputs": [
    {
     "name": "stdout",
     "output_type": "stream",
     "text": [
      "PatchEmbedding shape: (tensor([[[ 3.6181e-01,  1.2451e-01,  8.6804e-02,  ...,  1.2611e-01,\n",
      "           5.1994e-02,  2.2712e-01],\n",
      "         [ 4.1853e-01,  4.0628e-01,  5.1473e-02,  ..., -4.4006e-02,\n",
      "          -6.5528e-02,  4.6966e-02],\n",
      "         [ 3.6156e-01,  2.5480e-01, -6.7917e-02,  ..., -3.1022e-02,\n",
      "          -1.6191e-01, -9.6736e-02],\n",
      "         [ 4.7576e-01,  2.5257e-01,  1.9194e-03,  ...,  1.4130e-01,\n",
      "          -2.1290e-01,  2.3011e-02],\n",
      "         [ 1.7433e-01,  2.2282e-01, -1.1072e-01,  ...,  8.0207e-02,\n",
      "          -4.5680e-02,  1.0851e-02],\n",
      "         [ 2.8652e-01,  2.2029e-01, -8.4725e-02,  ...,  1.7288e-01,\n",
      "          -2.2659e-05, -1.3890e-01]]], device='cuda:0'), torch.Size([1, 6, 512]))\n"
     ]
    }
   ],
   "source": [
    "with torch.inference_mode():\n",
    "    model = PatchEmbedding((11, 3, 128, 128), (2, 8, 8), 512).to(device)\n",
    "    outputs = model(torch.rand(1, 11, 3, 128, 128).to(device))\n",
    "    print(f\"PatchEmbedding shape: {outputs}\")\n"
   ]
  },
  {
   "cell_type": "code",
   "execution_count": null,
   "id": "89de9ca8-5713-459c-8458-e1576f3a3be2",
   "metadata": {},
   "outputs": [],
   "source": []
  }
 ],
 "metadata": {
  "kernelspec": {
   "display_name": "Python 3 (ipykernel)",
   "language": "python",
   "name": "python3"
  },
  "language_info": {
   "codemirror_mode": {
    "name": "ipython",
    "version": 3
   },
   "file_extension": ".py",
   "mimetype": "text/x-python",
   "name": "python",
   "nbconvert_exporter": "python",
   "pygments_lexer": "ipython3",
   "version": "3.10.13"
  }
 },
 "nbformat": 4,
 "nbformat_minor": 5
}
